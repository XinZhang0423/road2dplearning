{
  "nbformat": 4,
  "nbformat_minor": 0,
  "metadata": {
    "colab": {
      "provenance": [],
      "authorship_tag": "ABX9TyNmRmWHpaBphKqCHY5oxjMH",
      "include_colab_link": true
    },
    "kernelspec": {
      "name": "python3",
      "display_name": "Python 3"
    },
    "language_info": {
      "name": "python"
    },
    "accelerator": "GPU",
    "gpuClass": "standard"
  },
  "cells": [
    {
      "cell_type": "markdown",
      "metadata": {
        "id": "view-in-github",
        "colab_type": "text"
      },
      "source": [
        "<a href=\"https://colab.research.google.com/github/XinZhang0423/deeplearningTutorials/blob/main/linear_regression_concise.ipynb\" target=\"_parent\"><img src=\"https://colab.research.google.com/assets/colab-badge.svg\" alt=\"Open In Colab\"/></a>"
      ]
    },
    {
      "cell_type": "code",
      "execution_count": null,
      "metadata": {
        "id": "oB1li-I-ZRt4"
      },
      "outputs": [],
      "source": [
        "!pip3 install torch==1.11.0\n",
        "!pip3 install torchvision==0.12.0"
      ]
    },
    {
      "cell_type": "code",
      "source": [
        "!pip3 install d2l==0.17.5"
      ],
      "metadata": {
        "id": "xiMtgS5uZwgy"
      },
      "execution_count": null,
      "outputs": []
    },
    {
      "cell_type": "code",
      "source": [
        "!pip3 install matplotlib_inline"
      ],
      "metadata": {
        "id": "0nGGfXwXa8MZ"
      },
      "execution_count": null,
      "outputs": []
    },
    {
      "cell_type": "code",
      "source": [
        "import numpy as np\n",
        "import torch\n",
        "from torch.utils import data"
      ],
      "metadata": {
        "id": "qMR1ReVHakLR"
      },
      "execution_count": 4,
      "outputs": []
    },
    {
      "cell_type": "code",
      "source": [
        "from d2l import torch as d2l"
      ],
      "metadata": {
        "id": "Go8Z-IWFaqwW"
      },
      "execution_count": 9,
      "outputs": []
    },
    {
      "cell_type": "code",
      "source": [
        "# generate data set\n",
        "true_w = torch.tensor([2, -3.4])\n",
        "true_b = 4.2\n",
        "features, labels = d2l.synthetic_data(true_w, true_b, 1000)"
      ],
      "metadata": {
        "id": "SyuCJw_-bF9O"
      },
      "execution_count": 14,
      "outputs": []
    },
    {
      "cell_type": "code",
      "source": [
        "def loader_array(data_arrays, batch_size, is_train=True):  \n",
        "    \"\"\"creat a data iterator\"\"\"\n",
        "    dataset = data.TensorDataset(*data_arrays)\n",
        "    return data.DataLoader(dataset, batch_size, shuffle=is_train)"
      ],
      "metadata": {
        "id": "QQfgzX3hbVM9"
      },
      "execution_count": 15,
      "outputs": []
    },
    {
      "cell_type": "code",
      "source": [
        "batch_size = 10\n",
        "data_iter = loader_array((features, labels), batch_size)"
      ],
      "metadata": {
        "id": "aNW4HBj2bztG"
      },
      "execution_count": 16,
      "outputs": []
    },
    {
      "cell_type": "code",
      "source": [
        "# neural network\n",
        "from torch import nn\n",
        "net = nn.Sequential(nn.Linear(2, 1))\n",
        "\n",
        "# initialise\n",
        "net[0].weight.data.normal_(0, 0.01)\n",
        "net[0].bias.data.fill_(0);\n",
        "\n",
        "#define loss function using mean square error\n",
        "loss = nn.MSELoss()\n",
        "\n",
        "#define optimisation methode - trainer\n",
        "trainer = torch.optim.SGD(net.parameters(), lr=0.03)\n",
        "\n",
        "#main part:\n",
        "def main_linear_regression(num_epochs=3):\n",
        "  for epoch in range(num_epochs):\n",
        "      for X, y in data_iter:\n",
        "          l = loss(net(X) ,y)\n",
        "          trainer.zero_grad()\n",
        "          l.backward()\n",
        "          trainer.step()\n",
        "      l = loss(net(features), labels)\n",
        "      print(f'epoch {epoch + 1}, loss {l:.6f}')\n",
        "main_linear_regression(5)"
      ],
      "metadata": {
        "colab": {
          "base_uri": "https://localhost:8080/"
        },
        "id": "nHB7Y5PZcCno",
        "outputId": "73ed3dd6-0aa8-4a59-daff-f93b361233d9"
      },
      "execution_count": 20,
      "outputs": [
        {
          "output_type": "stream",
          "name": "stdout",
          "text": [
            "epoch 1, loss 0.000214\n",
            "epoch 2, loss 0.000102\n",
            "epoch 3, loss 0.000103\n",
            "epoch 4, loss 0.000102\n",
            "epoch 5, loss 0.000102\n"
          ]
        }
      ]
    }
  ]
}